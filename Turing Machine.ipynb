{
 "cells": [
  {
   "cell_type": "code",
   "execution_count": 1,
   "metadata": {},
   "outputs": [],
   "source": [
    "from collections import deque"
   ]
  },
  {
   "cell_type": "code",
   "execution_count": 2,
   "metadata": {},
   "outputs": [],
   "source": [
    "class TuringMachine():\n",
    "  def __init__(self, tape='', blank_symbol=' ', initial_state=0, accepting_states=None, transitions=None):\n",
    "    self.__tape = deque(list(f'{blank_symbol}{tape}{blank_symbol}'))\n",
    "    self.__tape_position = 1\n",
    "    self.__current_state = initial_state\n",
    "    if transitions == None:\n",
    "      transitions = {}\n",
    "    self.__transitions = transitions\n",
    "    if accepting_states == None:\n",
    "      accepting_states = []\n",
    "    self.__accepting_states = accepting_states\n",
    "\n",
    "  def get_tape(self):\n",
    "    return ''.join(self.__tape)[1:-1]\n",
    "\n",
    "  def get_tape_position(self):\n",
    "    return self.__tape_position\n",
    "\n",
    "  def get_current_state(self):\n",
    "    return self.__current_state\n",
    "\n",
    "  def step(self):\n",
    "    char = self.__tape[self.__tape_position]\n",
    "    x = (self.__current_state, char)\n",
    "    if x in self.__transitions:\n",
    "      y = self.__transitions[x]\n",
    "      self.__tape[self.__tape_position] = y[1]\n",
    "      if y[2] == 'R':\n",
    "        self.__tape_position += 1\n",
    "      elif y[2] == 'L':\n",
    "        self.__tape_position -= 1\n",
    "      self.__current_state = y[0]\n",
    "\n",
    "  def accept(self):\n",
    "    return self.__current_state in self.__accepting_states"
   ]
  },
  {
   "cell_type": "code",
   "execution_count": 3,
   "metadata": {},
   "outputs": [],
   "source": [
    "initial_state = 0\n",
    "transitions = {\n",
    "                (0, 'a'): (1, 'A', 'R'),\n",
    "                (0, 'b'): (1, 'B', 'R'),\n",
    "                (0, 'X'): (4, 'X', 'L'),\n",
    "                (0, 'Y'): (4, 'Y', 'L'),\n",
    "                (0, ' '): (9, ' ', 'R'),\n",
    "                (1, 'a'): (1, 'a', 'R'),\n",
    "                (1, 'b'): (1, 'b', 'R'),\n",
    "                (1, ' '): (2, ' ', 'L'),\n",
    "                (1, 'X'): (2, 'X', 'L'),\n",
    "                (1, 'Y'): (2, 'Y', 'L'),\n",
    "                (2, 'a'): (3, 'X', 'L'),\n",
    "                (2, 'b'): (3, 'Y', 'L'),\n",
    "                (3, 'a'): (3, 'a', 'L'),\n",
    "                (3, 'b'): (3, 'b', 'L'),\n",
    "                (3, 'A'): (0, 'A', 'R'),\n",
    "                (3, 'B'): (0, 'B', 'R'),\n",
    "                (4, 'A'): (4, 'A', 'L'),\n",
    "                (4, 'B'): (4, 'B', 'L'),\n",
    "                (4, ' '): (5, ' ', 'R'),\n",
    "                (5, 'A'): (6, 'C', 'R'),\n",
    "                (5, 'B'): (7, 'C', 'R'),\n",
    "                (5, 'D'): (9, 'D', 'L'),\n",
    "                (6, 'A'): (6, 'A', 'R'),\n",
    "                (6, 'B'): (6, 'B', 'R'),\n",
    "                (6, 'D'): (6, 'D', 'R'),\n",
    "                (6, 'X'): (8, 'D', 'L'),\n",
    "                (7, 'A'): (7, 'A', 'R'),\n",
    "                (7, 'B'): (7, 'B', 'R'),\n",
    "                (7, 'D'): (7, 'D', 'R'),\n",
    "                (7, 'Y'): (8, 'D', 'L'),\n",
    "                (8, 'A'): (8, 'A', 'L'),\n",
    "                (8, 'B'): (8, 'B', 'L'),\n",
    "                (8, 'D'): (8, 'D', 'L'),\n",
    "                (8, 'C'): (5, 'C', 'R'),\n",
    "              }\n",
    "accepting_states = [9] \n",
    "\n",
    "tm = TuringMachine('abab', blank_symbol=' ', initial_state=initial_state, transitions=transitions, accepting_states=accepting_states)"
   ]
  },
  {
   "cell_type": "code",
   "execution_count": 4,
   "metadata": {},
   "outputs": [
    {
     "name": "stdout",
     "output_type": "stream",
     "text": [
      "abab\n",
      "Abab\n",
      "Abab\n",
      "Abab\n",
      "Abab\n",
      "Abab\n",
      "AbaY\n",
      "AbaY\n",
      "AbaY\n",
      "AbaY\n",
      "ABaY\n",
      "ABaY\n",
      "ABaY\n",
      "ABXY\n",
      "ABXY\n",
      "ABXY\n",
      "ABXY\n",
      "ABXY\n",
      "ABXY\n",
      "CBXY\n",
      "CBXY\n",
      "CBDY\n",
      "CBDY\n",
      "CBDY\n",
      "CCDY\n",
      "CCDY\n",
      "CCDD\n",
      "CCDD\n",
      "CCDD\n",
      "CCDD\n"
     ]
    }
   ],
   "source": [
    "print(tm.get_tape())\n",
    "while not tm.accept():\n",
    "  tm.step()\n",
    "  print(tm.get_tape())"
   ]
  },
  {
   "cell_type": "code",
   "execution_count": null,
   "metadata": {},
   "outputs": [],
   "source": []
  }
 ],
 "metadata": {
  "interpreter": {
   "hash": "0f8cd87952bc4d263d98f1beaa42c4301d8eaf945c7ea7255e40cfc9774d6c1a"
  },
  "kernelspec": {
   "display_name": "Python 3.9.7 ('MSCS-basic')",
   "language": "python",
   "name": "python3"
  },
  "language_info": {
   "codemirror_mode": {
    "name": "ipython",
    "version": 3
   },
   "file_extension": ".py",
   "mimetype": "text/x-python",
   "name": "python",
   "nbconvert_exporter": "python",
   "pygments_lexer": "ipython3",
   "version": "3.9.7"
  },
  "orig_nbformat": 4
 },
 "nbformat": 4,
 "nbformat_minor": 2
}
